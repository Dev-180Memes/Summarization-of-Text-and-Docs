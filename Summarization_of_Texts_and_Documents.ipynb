{
  "metadata": {
    "kernelspec": {
      "language": "python",
      "display_name": "Python 3",
      "name": "python3"
    },
    "language_info": {
      "name": "python",
      "version": "3.10.12",
      "mimetype": "text/x-python",
      "codemirror_mode": {
        "name": "ipython",
        "version": 3
      },
      "pygments_lexer": "ipython3",
      "nbconvert_exporter": "python",
      "file_extension": ".py"
    },
    "kaggle": {
      "accelerator": "none",
      "dataSources": [
        {
          "sourceId": 11210682,
          "sourceType": "datasetVersion",
          "datasetId": 612177
        }
      ],
      "dockerImageVersionId": 30918,
      "isInternetEnabled": true,
      "language": "python",
      "sourceType": "notebook",
      "isGpuEnabled": false
    },
    "colab": {
      "name": "Summarization of Texts and Documents",
      "provenance": [],
      "include_colab_link": true
    }
  },
  "nbformat_minor": 0,
  "nbformat": 4,
  "cells": [
    {
      "cell_type": "markdown",
      "metadata": {
        "id": "view-in-github",
        "colab_type": "text"
      },
      "source": [
        "<a href=\"https://colab.research.google.com/github/Dev-180Memes/Summarization-of-Text-and-Docs/blob/main/Summarization_of_Texts_and_Documents.ipynb\" target=\"_parent\"><img src=\"https://colab.research.google.com/assets/colab-badge.svg\" alt=\"Open In Colab\"/></a>"
      ]
    },
    {
      "source": [
        "# IMPORTANT: RUN THIS CELL IN ORDER TO IMPORT YOUR KAGGLE DATA SOURCES,\n",
        "# THEN FEEL FREE TO DELETE THIS CELL.\n",
        "# NOTE: THIS NOTEBOOK ENVIRONMENT DIFFERS FROM KAGGLE'S PYTHON\n",
        "# ENVIRONMENT SO THERE MAY BE MISSING LIBRARIES USED BY YOUR\n",
        "# NOTEBOOK.\n",
        "import kagglehub\n",
        "organizations_cornell_university_arxiv_path = kagglehub.dataset_download('organizations/Cornell-University/arxiv')\n",
        "\n",
        "print('Data source import complete.')\n"
      ],
      "metadata": {
        "id": "SyzNDspJaRBk"
      },
      "cell_type": "code",
      "outputs": [],
      "execution_count": null
    },
    {
      "cell_type": "code",
      "source": [
        "# This Python 3 environment comes with many helpful analytics libraries installed\n",
        "# It is defined by the kaggle/python Docker image: https://github.com/kaggle/docker-python\n",
        "# For example, here's several helpful packages to load\n",
        "\n",
        "import numpy as np # linear algebra\n",
        "import pandas as pd # data processing, CSV file I/O (e.g. pd.read_csv)\n",
        "\n",
        "# Input data files are available in the read-only \"../input/\" directory\n",
        "# For example, running this (by clicking run or pressing Shift+Enter) will list all files under the input directory\n",
        "\n",
        "import os\n",
        "for dirname, _, filenames in os.walk('/kaggle/input'):\n",
        "    for filename in filenames:\n",
        "        print(os.path.join(dirname, filename))\n",
        "\n",
        "# You can write up to 20GB to the current directory (/kaggle/working/) that gets preserved as output when you create a version using \"Save & Run All\"\n",
        "# You can also write temporary files to /kaggle/temp/, but they won't be saved outside of the current session"
      ],
      "metadata": {
        "_uuid": "8f2839f25d086af736a60e9eeb907d3b93b6e0e5",
        "_cell_guid": "b1076dfc-b9ad-4769-8c92-a6c4dae69d19",
        "trusted": true,
        "execution": {
          "iopub.status.busy": "2025-03-30T08:12:28.92773Z",
          "iopub.execute_input": "2025-03-30T08:12:28.928121Z",
          "iopub.status.idle": "2025-03-30T08:12:29.326457Z",
          "shell.execute_reply.started": "2025-03-30T08:12:28.928084Z",
          "shell.execute_reply": "2025-03-30T08:12:29.325322Z"
        },
        "id": "OKkFkBlHaRBo",
        "outputId": "b9dd8d70-0117-4868-fa55-40f2ea637123"
      },
      "outputs": [
        {
          "name": "stdout",
          "text": "/kaggle/input/arxiv/arxiv-metadata-oai-snapshot.json\n",
          "output_type": "stream"
        }
      ],
      "execution_count": null
    },
    {
      "cell_type": "code",
      "source": [
        "!pip install numpy pandas nltk spacy transformers datasets rouge-score sacrebleu"
      ],
      "metadata": {
        "trusted": true,
        "execution": {
          "iopub.status.busy": "2025-03-30T08:12:29.803119Z",
          "iopub.execute_input": "2025-03-30T08:12:29.803621Z",
          "iopub.status.idle": "2025-03-30T08:12:39.244187Z",
          "shell.execute_reply.started": "2025-03-30T08:12:29.803591Z",
          "shell.execute_reply": "2025-03-30T08:12:39.242953Z"
        },
        "id": "FpOaPfKQaRBp",
        "outputId": "856ec858-c704-4a1a-debe-0fe147020ab6"
      },
      "outputs": [
        {
          "name": "stdout",
          "text": "Requirement already satisfied: numpy in /usr/local/lib/python3.10/dist-packages (1.26.4)\nRequirement already satisfied: pandas in /usr/local/lib/python3.10/dist-packages (2.2.3)\nRequirement already satisfied: nltk in /usr/local/lib/python3.10/dist-packages (3.2.4)\nRequirement already satisfied: spacy in /usr/local/lib/python3.10/dist-packages (3.7.5)\nRequirement already satisfied: transformers in /usr/local/lib/python3.10/dist-packages (4.47.0)\nRequirement already satisfied: datasets in /usr/local/lib/python3.10/dist-packages (3.3.1)\nCollecting rouge-score\n  Downloading rouge_score-0.1.2.tar.gz (17 kB)\n  Preparing metadata (setup.py) ... \u001b[?25l\u001b[?25hdone\nCollecting sacrebleu\n  Downloading sacrebleu-2.5.1-py3-none-any.whl.metadata (51 kB)\n\u001b[2K     \u001b[90m━━━━━━━━━━━━━━━━━━━━━━━━━━━━━━━━━━━━━━━━\u001b[0m \u001b[32m51.8/51.8 kB\u001b[0m \u001b[31m1.8 MB/s\u001b[0m eta \u001b[36m0:00:00\u001b[0m\n\u001b[?25hRequirement already satisfied: mkl_fft in /usr/local/lib/python3.10/dist-packages (from numpy) (1.3.8)\nRequirement already satisfied: mkl_random in /usr/local/lib/python3.10/dist-packages (from numpy) (1.2.4)\nRequirement already satisfied: mkl_umath in /usr/local/lib/python3.10/dist-packages (from numpy) (0.1.1)\nRequirement already satisfied: mkl in /usr/local/lib/python3.10/dist-packages (from numpy) (2025.0.1)\nRequirement already satisfied: tbb4py in /usr/local/lib/python3.10/dist-packages (from numpy) (2022.0.0)\nRequirement already satisfied: mkl-service in /usr/local/lib/python3.10/dist-packages (from numpy) (2.4.1)\nRequirement already satisfied: python-dateutil>=2.8.2 in /usr/local/lib/python3.10/dist-packages (from pandas) (2.9.0.post0)\nRequirement already satisfied: pytz>=2020.1 in /usr/local/lib/python3.10/dist-packages (from pandas) (2025.1)\nRequirement already satisfied: tzdata>=2022.7 in /usr/local/lib/python3.10/dist-packages (from pandas) (2025.1)\nRequirement already satisfied: six in /usr/local/lib/python3.10/dist-packages (from nltk) (1.17.0)\nRequirement already satisfied: spacy-legacy<3.1.0,>=3.0.11 in /usr/local/lib/python3.10/dist-packages (from spacy) (3.0.12)\nRequirement already satisfied: spacy-loggers<2.0.0,>=1.0.0 in /usr/local/lib/python3.10/dist-packages (from spacy) (1.0.5)\nRequirement already satisfied: murmurhash<1.1.0,>=0.28.0 in /usr/local/lib/python3.10/dist-packages (from spacy) (1.0.11)\nRequirement already satisfied: cymem<2.1.0,>=2.0.2 in /usr/local/lib/python3.10/dist-packages (from spacy) (2.0.10)\nRequirement already satisfied: preshed<3.1.0,>=3.0.2 in /usr/local/lib/python3.10/dist-packages (from spacy) (3.0.9)\nRequirement already satisfied: thinc<8.3.0,>=8.2.2 in /usr/local/lib/python3.10/dist-packages (from spacy) (8.2.5)\nRequirement already satisfied: wasabi<1.2.0,>=0.9.1 in /usr/local/lib/python3.10/dist-packages (from spacy) (1.1.3)\nRequirement already satisfied: srsly<3.0.0,>=2.4.3 in /usr/local/lib/python3.10/dist-packages (from spacy) (2.5.0)\nRequirement already satisfied: catalogue<2.1.0,>=2.0.6 in /usr/local/lib/python3.10/dist-packages (from spacy) (2.0.10)\nRequirement already satisfied: weasel<0.5.0,>=0.1.0 in /usr/local/lib/python3.10/dist-packages (from spacy) (0.4.1)\nRequirement already satisfied: typer<1.0.0,>=0.3.0 in /usr/local/lib/python3.10/dist-packages (from spacy) (0.15.1)\nRequirement already satisfied: tqdm<5.0.0,>=4.38.0 in /usr/local/lib/python3.10/dist-packages (from spacy) (4.67.1)\nRequirement already satisfied: requests<3.0.0,>=2.13.0 in /usr/local/lib/python3.10/dist-packages (from spacy) (2.32.3)\nRequirement already satisfied: pydantic!=1.8,!=1.8.1,<3.0.0,>=1.7.4 in /usr/local/lib/python3.10/dist-packages (from spacy) (2.11.0a2)\nRequirement already satisfied: jinja2 in /usr/local/lib/python3.10/dist-packages (from spacy) (3.1.4)\nRequirement already satisfied: setuptools in /usr/local/lib/python3.10/dist-packages (from spacy) (75.1.0)\nRequirement already satisfied: packaging>=20.0 in /usr/local/lib/python3.10/dist-packages (from spacy) (24.2)\nRequirement already satisfied: langcodes<4.0.0,>=3.2.0 in /usr/local/lib/python3.10/dist-packages (from spacy) (3.5.0)\nRequirement already satisfied: filelock in /usr/local/lib/python3.10/dist-packages (from transformers) (3.17.0)\nRequirement already satisfied: huggingface-hub<1.0,>=0.24.0 in /usr/local/lib/python3.10/dist-packages (from transformers) (0.29.0)\nRequirement already satisfied: pyyaml>=5.1 in /usr/local/lib/python3.10/dist-packages (from transformers) (6.0.2)\nRequirement already satisfied: regex!=2019.12.17 in /usr/local/lib/python3.10/dist-packages (from transformers) (2024.11.6)\nRequirement already satisfied: tokenizers<0.22,>=0.21 in /usr/local/lib/python3.10/dist-packages (from transformers) (0.21.0)\nRequirement already satisfied: safetensors>=0.4.1 in /usr/local/lib/python3.10/dist-packages (from transformers) (0.4.5)\nRequirement already satisfied: pyarrow>=15.0.0 in /usr/local/lib/python3.10/dist-packages (from datasets) (19.0.1)\nRequirement already satisfied: dill<0.3.9,>=0.3.0 in /usr/local/lib/python3.10/dist-packages (from datasets) (0.3.8)\nRequirement already satisfied: xxhash in /usr/local/lib/python3.10/dist-packages (from datasets) (3.5.0)\nRequirement already satisfied: multiprocess<0.70.17 in /usr/local/lib/python3.10/dist-packages (from datasets) (0.70.16)\nRequirement already satisfied: fsspec<=2024.12.0,>=2023.1.0 in /usr/local/lib/python3.10/dist-packages (from fsspec[http]<=2024.12.0,>=2023.1.0->datasets) (2024.12.0)\nRequirement already satisfied: aiohttp in /usr/local/lib/python3.10/dist-packages (from datasets) (3.11.12)\nRequirement already satisfied: absl-py in /usr/local/lib/python3.10/dist-packages (from rouge-score) (1.4.0)\nCollecting portalocker (from sacrebleu)\n  Downloading portalocker-3.1.1-py3-none-any.whl.metadata (8.6 kB)\nRequirement already satisfied: tabulate>=0.8.9 in /usr/local/lib/python3.10/dist-packages (from sacrebleu) (0.9.0)\nRequirement already satisfied: colorama in /usr/local/lib/python3.10/dist-packages (from sacrebleu) (0.4.6)\nRequirement already satisfied: lxml in /usr/local/lib/python3.10/dist-packages (from sacrebleu) (5.3.0)\nRequirement already satisfied: aiohappyeyeballs>=2.3.0 in /usr/local/lib/python3.10/dist-packages (from aiohttp->datasets) (2.4.6)\nRequirement already satisfied: aiosignal>=1.1.2 in /usr/local/lib/python3.10/dist-packages (from aiohttp->datasets) (1.3.2)\nRequirement already satisfied: async-timeout<6.0,>=4.0 in /usr/local/lib/python3.10/dist-packages (from aiohttp->datasets) (5.0.1)\nRequirement already satisfied: attrs>=17.3.0 in /usr/local/lib/python3.10/dist-packages (from aiohttp->datasets) (25.1.0)\nRequirement already satisfied: frozenlist>=1.1.1 in /usr/local/lib/python3.10/dist-packages (from aiohttp->datasets) (1.5.0)\nRequirement already satisfied: multidict<7.0,>=4.5 in /usr/local/lib/python3.10/dist-packages (from aiohttp->datasets) (6.1.0)\nRequirement already satisfied: propcache>=0.2.0 in /usr/local/lib/python3.10/dist-packages (from aiohttp->datasets) (0.2.1)\nRequirement already satisfied: yarl<2.0,>=1.17.0 in /usr/local/lib/python3.10/dist-packages (from aiohttp->datasets) (1.18.3)\nRequirement already satisfied: typing-extensions>=3.7.4.3 in /usr/local/lib/python3.10/dist-packages (from huggingface-hub<1.0,>=0.24.0->transformers) (4.12.2)\nRequirement already satisfied: language-data>=1.2 in /usr/local/lib/python3.10/dist-packages (from langcodes<4.0.0,>=3.2.0->spacy) (1.3.0)\nRequirement already satisfied: annotated-types>=0.6.0 in /usr/local/lib/python3.10/dist-packages (from pydantic!=1.8,!=1.8.1,<3.0.0,>=1.7.4->spacy) (0.7.0)\nRequirement already satisfied: pydantic-core==2.29.0 in /usr/local/lib/python3.10/dist-packages (from pydantic!=1.8,!=1.8.1,<3.0.0,>=1.7.4->spacy) (2.29.0)\nRequirement already satisfied: charset-normalizer<4,>=2 in /usr/local/lib/python3.10/dist-packages (from requests<3.0.0,>=2.13.0->spacy) (3.4.1)\nRequirement already satisfied: idna<4,>=2.5 in /usr/local/lib/python3.10/dist-packages (from requests<3.0.0,>=2.13.0->spacy) (3.10)\nRequirement already satisfied: urllib3<3,>=1.21.1 in /usr/local/lib/python3.10/dist-packages (from requests<3.0.0,>=2.13.0->spacy) (2.3.0)\nRequirement already satisfied: certifi>=2017.4.17 in /usr/local/lib/python3.10/dist-packages (from requests<3.0.0,>=2.13.0->spacy) (2025.1.31)\nRequirement already satisfied: blis<0.8.0,>=0.7.8 in /usr/local/lib/python3.10/dist-packages (from thinc<8.3.0,>=8.2.2->spacy) (0.7.11)\nRequirement already satisfied: confection<1.0.0,>=0.0.1 in /usr/local/lib/python3.10/dist-packages (from thinc<8.3.0,>=8.2.2->spacy) (0.1.5)\nRequirement already satisfied: click>=8.0.0 in /usr/local/lib/python3.10/dist-packages (from typer<1.0.0,>=0.3.0->spacy) (8.1.7)\nRequirement already satisfied: shellingham>=1.3.0 in /usr/local/lib/python3.10/dist-packages (from typer<1.0.0,>=0.3.0->spacy) (1.5.4)\nRequirement already satisfied: rich>=10.11.0 in /usr/local/lib/python3.10/dist-packages (from typer<1.0.0,>=0.3.0->spacy) (13.9.4)\nRequirement already satisfied: cloudpathlib<1.0.0,>=0.7.0 in /usr/local/lib/python3.10/dist-packages (from weasel<0.5.0,>=0.1.0->spacy) (0.20.0)\nRequirement already satisfied: smart-open<8.0.0,>=5.2.1 in /usr/local/lib/python3.10/dist-packages (from weasel<0.5.0,>=0.1.0->spacy) (7.0.5)\nRequirement already satisfied: MarkupSafe>=2.0 in /usr/local/lib/python3.10/dist-packages (from jinja2->spacy) (3.0.2)\nRequirement already satisfied: intel-openmp>=2024 in /usr/local/lib/python3.10/dist-packages (from mkl->numpy) (2024.2.0)\nRequirement already satisfied: tbb==2022.* in /usr/local/lib/python3.10/dist-packages (from mkl->numpy) (2022.0.0)\nRequirement already satisfied: tcmlib==1.* in /usr/local/lib/python3.10/dist-packages (from tbb==2022.*->mkl->numpy) (1.2.0)\nRequirement already satisfied: intel-cmplr-lib-rt in /usr/local/lib/python3.10/dist-packages (from mkl_umath->numpy) (2024.2.0)\nRequirement already satisfied: intel-cmplr-lib-ur==2024.2.0 in /usr/local/lib/python3.10/dist-packages (from intel-openmp>=2024->mkl->numpy) (2024.2.0)\nRequirement already satisfied: marisa-trie>=1.1.0 in /usr/local/lib/python3.10/dist-packages (from language-data>=1.2->langcodes<4.0.0,>=3.2.0->spacy) (1.2.1)\nRequirement already satisfied: markdown-it-py>=2.2.0 in /usr/local/lib/python3.10/dist-packages (from rich>=10.11.0->typer<1.0.0,>=0.3.0->spacy) (3.0.0)\nRequirement already satisfied: pygments<3.0.0,>=2.13.0 in /usr/local/lib/python3.10/dist-packages (from rich>=10.11.0->typer<1.0.0,>=0.3.0->spacy) (2.19.1)\nRequirement already satisfied: wrapt in /usr/local/lib/python3.10/dist-packages (from smart-open<8.0.0,>=5.2.1->weasel<0.5.0,>=0.1.0->spacy) (1.17.0)\nRequirement already satisfied: mdurl~=0.1 in /usr/local/lib/python3.10/dist-packages (from markdown-it-py>=2.2.0->rich>=10.11.0->typer<1.0.0,>=0.3.0->spacy) (0.1.2)\nDownloading sacrebleu-2.5.1-py3-none-any.whl (104 kB)\n\u001b[2K   \u001b[90m━━━━━━━━━━━━━━━━━━━━━━━━━━━━━━━━━━━━━━━━\u001b[0m \u001b[32m104.1/104.1 kB\u001b[0m \u001b[31m3.7 MB/s\u001b[0m eta \u001b[36m0:00:00\u001b[0m\n\u001b[?25hDownloading portalocker-3.1.1-py3-none-any.whl (19 kB)\nBuilding wheels for collected packages: rouge-score\n  Building wheel for rouge-score (setup.py) ... \u001b[?25l\u001b[?25hdone\n  Created wheel for rouge-score: filename=rouge_score-0.1.2-py3-none-any.whl size=24935 sha256=ff06602f993a6c737aaaa89107f164126f1f4c4f933dc6648809e6c0642e6568\n  Stored in directory: /root/.cache/pip/wheels/5f/dd/89/461065a73be61a532ff8599a28e9beef17985c9e9c31e541b4\nSuccessfully built rouge-score\nInstalling collected packages: portalocker, sacrebleu, rouge-score\nSuccessfully installed portalocker-3.1.1 rouge-score-0.1.2 sacrebleu-2.5.1\n",
          "output_type": "stream"
        }
      ],
      "execution_count": null
    },
    {
      "cell_type": "code",
      "source": [
        "import pandas as pd\n",
        "\n",
        "# Load the JSON file\n",
        "data = pd.read_json('/kaggle/input/arxiv/arxiv-metadata-oai-snapshot.json', lines=True)\n",
        "\n",
        "# Extract relevant columns (e.g., abstract as input, title as pseudo-summary for evaluation)\n",
        "texts = data['abstract'].dropna().tolist()  # Input texts\n",
        "references = data['title'].dropna().tolist()  # Reference summaries (for evaluation)"
      ],
      "metadata": {
        "trusted": true,
        "execution": {
          "iopub.status.busy": "2025-03-30T08:12:39.245691Z",
          "iopub.execute_input": "2025-03-30T08:12:39.245957Z",
          "iopub.status.idle": "2025-03-30T08:15:37.723438Z",
          "shell.execute_reply.started": "2025-03-30T08:12:39.245936Z",
          "shell.execute_reply": "2025-03-30T08:15:37.722404Z"
        },
        "id": "ML0-Q6XZaRBq"
      },
      "outputs": [],
      "execution_count": null
    },
    {
      "cell_type": "code",
      "source": [
        "import re\n",
        "def preprocess_text(text):\n",
        "    text = re.sub(r'\\s+', ' ', text).strip()\n",
        "    return text.lower()\n",
        "\n",
        "texts = [preprocess_text(t) for t in texts]\n",
        "references = [preprocess_text(r) for r in references]"
      ],
      "metadata": {
        "trusted": true,
        "execution": {
          "iopub.status.busy": "2025-03-30T08:15:37.736064Z",
          "iopub.execute_input": "2025-03-30T08:15:37.736494Z",
          "iopub.status.idle": "2025-03-30T08:18:42.782729Z",
          "shell.execute_reply.started": "2025-03-30T08:15:37.736464Z",
          "shell.execute_reply": "2025-03-30T08:18:42.7812Z"
        },
        "id": "_nAmPkNuaRBr"
      },
      "outputs": [],
      "execution_count": null
    },
    {
      "cell_type": "markdown",
      "source": [
        "## Extractive Summarization"
      ],
      "metadata": {
        "id": "X2LmooaVaRBt"
      }
    },
    {
      "cell_type": "code",
      "source": [
        "!pip install sumy"
      ],
      "metadata": {
        "trusted": true,
        "execution": {
          "iopub.status.busy": "2025-03-30T08:18:42.784612Z",
          "iopub.execute_input": "2025-03-30T08:18:42.785059Z",
          "iopub.status.idle": "2025-03-30T08:18:56.266942Z",
          "shell.execute_reply.started": "2025-03-30T08:18:42.785018Z",
          "shell.execute_reply": "2025-03-30T08:18:56.265908Z"
        },
        "id": "xHoOHDryaRB5",
        "outputId": "a4ac996e-a1e8-4ba8-c536-85f76c2e613e"
      },
      "outputs": [
        {
          "name": "stdout",
          "text": "Collecting sumy\n  Downloading sumy-0.11.0-py2.py3-none-any.whl.metadata (7.5 kB)\nCollecting docopt<0.7,>=0.6.1 (from sumy)\n  Downloading docopt-0.6.2.tar.gz (25 kB)\n  Preparing metadata (setup.py) ... \u001b[?25l\u001b[?25hdone\nCollecting breadability>=0.1.20 (from sumy)\n  Downloading breadability-0.1.20.tar.gz (32 kB)\n  Preparing metadata (setup.py) ... \u001b[?25l\u001b[?25hdone\nRequirement already satisfied: requests>=2.7.0 in /usr/local/lib/python3.10/dist-packages (from sumy) (2.32.3)\nCollecting pycountry>=18.2.23 (from sumy)\n  Downloading pycountry-24.6.1-py3-none-any.whl.metadata (12 kB)\nRequirement already satisfied: nltk>=3.0.2 in /usr/local/lib/python3.10/dist-packages (from sumy) (3.2.4)\nRequirement already satisfied: chardet in /usr/local/lib/python3.10/dist-packages (from breadability>=0.1.20->sumy) (5.2.0)\nRequirement already satisfied: lxml>=2.0 in /usr/local/lib/python3.10/dist-packages (from breadability>=0.1.20->sumy) (5.3.0)\nRequirement already satisfied: six in /usr/local/lib/python3.10/dist-packages (from nltk>=3.0.2->sumy) (1.17.0)\nRequirement already satisfied: charset-normalizer<4,>=2 in /usr/local/lib/python3.10/dist-packages (from requests>=2.7.0->sumy) (3.4.1)\nRequirement already satisfied: idna<4,>=2.5 in /usr/local/lib/python3.10/dist-packages (from requests>=2.7.0->sumy) (3.10)\nRequirement already satisfied: urllib3<3,>=1.21.1 in /usr/local/lib/python3.10/dist-packages (from requests>=2.7.0->sumy) (2.3.0)\nRequirement already satisfied: certifi>=2017.4.17 in /usr/local/lib/python3.10/dist-packages (from requests>=2.7.0->sumy) (2025.1.31)\nDownloading sumy-0.11.0-py2.py3-none-any.whl (97 kB)\n\u001b[2K   \u001b[90m━━━━━━━━━━━━━━━━━━━━━━━━━━━━━━━━━━━━━━━━\u001b[0m \u001b[32m97.3/97.3 kB\u001b[0m \u001b[31m3.5 MB/s\u001b[0m eta \u001b[36m0:00:00\u001b[0m\n\u001b[?25hDownloading pycountry-24.6.1-py3-none-any.whl (6.3 MB)\n\u001b[2K   \u001b[90m━━━━━━━━━━━━━━━━━━━━━━━━━━━━━━━━━━━━━━━━\u001b[0m \u001b[32m6.3/6.3 MB\u001b[0m \u001b[31m55.5 MB/s\u001b[0m eta \u001b[36m0:00:00\u001b[0m00:01\u001b[0m00:01\u001b[0m\n\u001b[?25hBuilding wheels for collected packages: breadability, docopt\n  Building wheel for breadability (setup.py) ... \u001b[?25l\u001b[?25hdone\n  Created wheel for breadability: filename=breadability-0.1.20-py2.py3-none-any.whl size=21692 sha256=69b3fe9ee8013dbd9fc7a66309929d0c9b1f944ba5123934e505a78056f6cd13\n  Stored in directory: /root/.cache/pip/wheels/64/22/90/b84fcc30e16598db20a0d41340616dbf9b1e82bbcc627b0b33\n  Building wheel for docopt (setup.py) ... \u001b[?25l\u001b[?25hdone\n  Created wheel for docopt: filename=docopt-0.6.2-py2.py3-none-any.whl size=13706 sha256=e91c3b08bcc72a8ed7345f499cb70342790c45e6e5d6742fb67f064ff094ec26\n  Stored in directory: /root/.cache/pip/wheels/fc/ab/d4/5da2067ac95b36618c629a5f93f809425700506f72c9732fac\nSuccessfully built breadability docopt\nInstalling collected packages: docopt, pycountry, breadability, sumy\nSuccessfully installed breadability-0.1.20 docopt-0.6.2 pycountry-24.6.1 sumy-0.11.0\n",
          "output_type": "stream"
        }
      ],
      "execution_count": null
    },
    {
      "cell_type": "code",
      "source": [
        "import sumy\n",
        "print(sumy.__version__)"
      ],
      "metadata": {
        "trusted": true,
        "execution": {
          "iopub.status.busy": "2025-03-30T08:18:56.268421Z",
          "iopub.execute_input": "2025-03-30T08:18:56.268845Z",
          "iopub.status.idle": "2025-03-30T08:18:56.281185Z",
          "shell.execute_reply.started": "2025-03-30T08:18:56.268801Z",
          "shell.execute_reply": "2025-03-30T08:18:56.280019Z"
        },
        "id": "O-ev_vo1aRB6",
        "outputId": "1bf60374-e6e6-4ff8-d76d-10d11848395d"
      },
      "outputs": [
        {
          "name": "stdout",
          "text": "0.11.0\n",
          "output_type": "stream"
        }
      ],
      "execution_count": null
    },
    {
      "cell_type": "code",
      "source": [
        "from sumy.parsers.plaintext import PlaintextParser"
      ],
      "metadata": {
        "trusted": true,
        "execution": {
          "iopub.status.busy": "2025-03-30T08:20:17.149902Z",
          "iopub.execute_input": "2025-03-30T08:20:17.150332Z",
          "iopub.status.idle": "2025-03-30T08:20:18.178647Z",
          "shell.execute_reply.started": "2025-03-30T08:20:17.150302Z",
          "shell.execute_reply": "2025-03-30T08:20:18.177773Z"
        },
        "id": "WjUTdyLRaRB-"
      },
      "outputs": [],
      "execution_count": null
    },
    {
      "cell_type": "code",
      "source": [
        "from sumy.nlp.tokenizers import Tokenizer\n",
        "from sumy.summarizers.text_rank import TextRankSummarizer"
      ],
      "metadata": {
        "trusted": true,
        "execution": {
          "iopub.status.busy": "2025-03-30T08:20:18.179918Z",
          "iopub.execute_input": "2025-03-30T08:20:18.18031Z",
          "iopub.status.idle": "2025-03-30T08:20:20.421008Z",
          "shell.execute_reply.started": "2025-03-30T08:20:18.180276Z",
          "shell.execute_reply": "2025-03-30T08:20:20.419783Z"
        },
        "id": "C6EtkSXtaRB_"
      },
      "outputs": [],
      "execution_count": null
    },
    {
      "cell_type": "code",
      "source": [
        "def extractive_summary(text, sentence_count=3):\n",
        "    parser = PlaintextParser.from_string(text, Tokenizer(\"english\"))\n",
        "    summarizer = TextRankSummarizer()\n",
        "    summary = summarizer(parser.document, sentence_count)\n",
        "    return \" \".join([str(sentence) for sentence in summary])"
      ],
      "metadata": {
        "trusted": true,
        "execution": {
          "iopub.status.busy": "2025-03-30T08:20:20.422325Z",
          "iopub.execute_input": "2025-03-30T08:20:20.423378Z",
          "iopub.status.idle": "2025-03-30T08:20:20.42803Z",
          "shell.execute_reply.started": "2025-03-30T08:20:20.423347Z",
          "shell.execute_reply": "2025-03-30T08:20:20.427039Z"
        },
        "id": "C-fapyGOaRCC"
      },
      "outputs": [],
      "execution_count": null
    },
    {
      "cell_type": "code",
      "source": [
        "sample_text = texts[0]\n",
        "extractive_result = extractive_summary(sample_text)\n",
        "print(\"Extractive Summary:\", extractive_result)"
      ],
      "metadata": {
        "trusted": true,
        "execution": {
          "iopub.status.busy": "2025-03-30T08:20:22.107048Z",
          "iopub.execute_input": "2025-03-30T08:20:22.107459Z",
          "iopub.status.idle": "2025-03-30T08:20:22.19768Z",
          "shell.execute_reply.started": "2025-03-30T08:20:22.10743Z",
          "shell.execute_reply": "2025-03-30T08:20:22.196659Z"
        },
        "id": "6BPK4JO1aRCC",
        "outputId": "81c188f4-ac6b-477b-fa2c-77bcec72d017"
      },
      "outputs": [
        {
          "name": "stdout",
          "text": "Extractive Summary: good agreement is demonstrated with data from the fermilab tevatron, and predictions are made for more detailed tests with cdf and do data. predictions are shown for distributions of diphoton pairs produced at the energy of the large hadron collider (lhc). distributions of the diphoton pairs from the decay of a higgs boson are contrasted with those produced from qcd processes at the lhc, showing that enhanced sensitivity to the signal can be obtained with judicious selection of events.\n",
          "output_type": "stream"
        }
      ],
      "execution_count": null
    },
    {
      "cell_type": "markdown",
      "source": [
        "## Abstractive Summarization"
      ],
      "metadata": {
        "id": "DkcHevc9aRCD"
      }
    },
    {
      "cell_type": "code",
      "source": [
        "from transformers import BartTokenizer, BartForConditionalGeneration"
      ],
      "metadata": {
        "trusted": true,
        "execution": {
          "iopub.status.busy": "2025-03-30T08:20:26.606081Z",
          "iopub.execute_input": "2025-03-30T08:20:26.606662Z",
          "iopub.status.idle": "2025-03-30T08:20:54.882886Z",
          "shell.execute_reply.started": "2025-03-30T08:20:26.606621Z",
          "shell.execute_reply": "2025-03-30T08:20:54.882061Z"
        },
        "id": "lcx06nZYaRCD"
      },
      "outputs": [],
      "execution_count": null
    },
    {
      "cell_type": "code",
      "source": [
        "model_name = \"facebook/bart-large-cnn\"\n",
        "tokenizer = BartTokenizer.from_pretrained(model_name)\n",
        "model = BartForConditionalGeneration.from_pretrained(model_name)"
      ],
      "metadata": {
        "trusted": true,
        "execution": {
          "iopub.status.busy": "2025-03-30T08:20:54.884063Z",
          "iopub.execute_input": "2025-03-30T08:20:54.88484Z",
          "iopub.status.idle": "2025-03-30T08:21:13.494501Z",
          "shell.execute_reply.started": "2025-03-30T08:20:54.8848Z",
          "shell.execute_reply": "2025-03-30T08:21:13.49332Z"
        },
        "id": "aIIRvrb0aRCE",
        "outputId": "b6b50db1-aff6-42c7-de2c-14b05e2e27ce",
        "colab": {
          "referenced_widgets": [
            "c6b54ad61a024ad9a5e7f2a593ee17dc",
            "439846962c344972addebccca5c19b12",
            "56711479387a48f89e61b4b258a4962e",
            "f1b9967f72ac49cb897fef9c837625b1",
            "00b325534832480db3f44945c4fd4176",
            "10922eaa4af04ad890996cde4791a177"
          ]
        }
      },
      "outputs": [
        {
          "output_type": "display_data",
          "data": {
            "text/plain": "vocab.json:   0%|          | 0.00/899k [00:00<?, ?B/s]",
            "application/vnd.jupyter.widget-view+json": {
              "version_major": 2,
              "version_minor": 0,
              "model_id": "c6b54ad61a024ad9a5e7f2a593ee17dc"
            }
          },
          "metadata": {}
        },
        {
          "output_type": "display_data",
          "data": {
            "text/plain": "merges.txt:   0%|          | 0.00/456k [00:00<?, ?B/s]",
            "application/vnd.jupyter.widget-view+json": {
              "version_major": 2,
              "version_minor": 0,
              "model_id": "439846962c344972addebccca5c19b12"
            }
          },
          "metadata": {}
        },
        {
          "output_type": "display_data",
          "data": {
            "text/plain": "tokenizer.json:   0%|          | 0.00/1.36M [00:00<?, ?B/s]",
            "application/vnd.jupyter.widget-view+json": {
              "version_major": 2,
              "version_minor": 0,
              "model_id": "56711479387a48f89e61b4b258a4962e"
            }
          },
          "metadata": {}
        },
        {
          "output_type": "display_data",
          "data": {
            "text/plain": "config.json:   0%|          | 0.00/1.58k [00:00<?, ?B/s]",
            "application/vnd.jupyter.widget-view+json": {
              "version_major": 2,
              "version_minor": 0,
              "model_id": "f1b9967f72ac49cb897fef9c837625b1"
            }
          },
          "metadata": {}
        },
        {
          "output_type": "display_data",
          "data": {
            "text/plain": "model.safetensors:   0%|          | 0.00/1.63G [00:00<?, ?B/s]",
            "application/vnd.jupyter.widget-view+json": {
              "version_major": 2,
              "version_minor": 0,
              "model_id": "00b325534832480db3f44945c4fd4176"
            }
          },
          "metadata": {}
        },
        {
          "output_type": "display_data",
          "data": {
            "text/plain": "generation_config.json:   0%|          | 0.00/363 [00:00<?, ?B/s]",
            "application/vnd.jupyter.widget-view+json": {
              "version_major": 2,
              "version_minor": 0,
              "model_id": "10922eaa4af04ad890996cde4791a177"
            }
          },
          "metadata": {}
        }
      ],
      "execution_count": null
    },
    {
      "cell_type": "code",
      "source": [
        "def abstractive_summary(text, max_length=100, min_length=30):\n",
        "    inputs = tokenizer([text], max_length=1024, return_tensors=\"pt\", truncation=True)\n",
        "    summary_ids = model.generate(inputs[\"input_ids\"], max_length=max_length, min_length=min_length, length_penalty=2.0, num_beams=4, early_stopping=True)\n",
        "    return tokenizer.decode(summary_ids[0], skip_special_tokens=True)"
      ],
      "metadata": {
        "trusted": true,
        "execution": {
          "iopub.status.busy": "2025-03-30T08:21:13.497412Z",
          "iopub.execute_input": "2025-03-30T08:21:13.49771Z",
          "iopub.status.idle": "2025-03-30T08:21:13.502616Z",
          "shell.execute_reply.started": "2025-03-30T08:21:13.497687Z",
          "shell.execute_reply": "2025-03-30T08:21:13.501697Z"
        },
        "id": "33LoIwhyaRCE"
      },
      "outputs": [],
      "execution_count": null
    },
    {
      "cell_type": "code",
      "source": [
        "abstractive_result = abstractive_summary(sample_text)\n",
        "print(\"Abstractive Summary:\", abstractive_result)"
      ],
      "metadata": {
        "trusted": true,
        "execution": {
          "iopub.status.busy": "2025-03-30T08:23:12.939291Z",
          "iopub.execute_input": "2025-03-30T08:23:12.939709Z",
          "iopub.status.idle": "2025-03-30T08:23:22.66296Z",
          "shell.execute_reply.started": "2025-03-30T08:23:12.939684Z",
          "shell.execute_reply": "2025-03-30T08:23:22.661933Z"
        },
        "id": "vLg3LJHsaRCE",
        "outputId": "790c1570-3ac7-47a2-d00c-a761fef00c7d"
      },
      "outputs": [
        {
          "name": "stdout",
          "text": "Abstractive Summary: a fully differential calculation in perturbative quantum chromodynamics is presented for the production of massive photon pairs at hadron colliders. good agreement is demonstrated with data from the fermilab tevatron, and predictions are made for more detailed tests with cdf and do data.\n",
          "output_type": "stream"
        }
      ],
      "execution_count": null
    },
    {
      "cell_type": "markdown",
      "source": [
        "## Hybrid Approach"
      ],
      "metadata": {
        "id": "Basb61CHaRCF"
      }
    },
    {
      "cell_type": "code",
      "source": [
        "def hybrid_summary(text, sentence_count=3, max_length=100):\n",
        "    # Step 1: Extract key sentences\n",
        "    extractive_text = extractive_summary(text, sentence_count)\n",
        "    # Step 2: Refine with abstractive model\n",
        "    hybrid_result = abstractive_summary(extractive_text, max_length=max_length)\n",
        "    return hybrid_result"
      ],
      "metadata": {
        "trusted": true,
        "execution": {
          "iopub.status.busy": "2025-03-30T08:23:22.664436Z",
          "iopub.execute_input": "2025-03-30T08:23:22.664818Z",
          "iopub.status.idle": "2025-03-30T08:23:22.669691Z",
          "shell.execute_reply.started": "2025-03-30T08:23:22.664791Z",
          "shell.execute_reply": "2025-03-30T08:23:22.668796Z"
        },
        "id": "qTYAuURRaRCF"
      },
      "outputs": [],
      "execution_count": null
    },
    {
      "cell_type": "code",
      "source": [
        "hybrid_result = hybrid_summary(sample_text)\n",
        "print(\"Hybrid Summary:\", hybrid_result)"
      ],
      "metadata": {
        "trusted": true,
        "execution": {
          "iopub.status.busy": "2025-03-30T08:24:32.412806Z",
          "iopub.execute_input": "2025-03-30T08:24:32.413274Z",
          "iopub.status.idle": "2025-03-30T08:24:38.126265Z",
          "shell.execute_reply.started": "2025-03-30T08:24:32.413236Z",
          "shell.execute_reply": "2025-03-30T08:24:38.125227Z"
        },
        "id": "UmkqrucRaRCF",
        "outputId": "c4f7fa62-723f-4564-b8cd-63fea99aef4e"
      },
      "outputs": [
        {
          "name": "stdout",
          "text": "Hybrid Summary: good agreement is demonstrated with data from the fermilab tevatron. predictions are shown for distributions of diphoton pairs produced at the energy of the large hadron collider.\n",
          "output_type": "stream"
        }
      ],
      "execution_count": null
    },
    {
      "cell_type": "markdown",
      "source": [
        "## Evaluation"
      ],
      "metadata": {
        "id": "yFBhfxwwaRCG"
      }
    },
    {
      "cell_type": "markdown",
      "source": [
        "### Rouge Score"
      ],
      "metadata": {
        "id": "WZSm8AafaRCH"
      }
    },
    {
      "cell_type": "code",
      "source": [
        "from rouge_score import rouge_scorer\n",
        "scorer = rouge_scorer.RougeScorer(['rouge1', 'rouge2', 'rougeL'], use_stemmer=True)"
      ],
      "metadata": {
        "trusted": true,
        "execution": {
          "iopub.status.busy": "2025-03-30T08:24:38.127469Z",
          "iopub.execute_input": "2025-03-30T08:24:38.12777Z",
          "iopub.status.idle": "2025-03-30T08:24:38.138078Z",
          "shell.execute_reply.started": "2025-03-30T08:24:38.127747Z",
          "shell.execute_reply": "2025-03-30T08:24:38.137092Z"
        },
        "id": "ZpYqSZmaaRCI"
      },
      "outputs": [],
      "execution_count": null
    },
    {
      "cell_type": "code",
      "source": [
        "def evaluate_rouge(generated, reference):\n",
        "    scores = scorer.score(reference, generated)\n",
        "    return scores"
      ],
      "metadata": {
        "trusted": true,
        "execution": {
          "iopub.status.busy": "2025-03-30T08:24:38.140027Z",
          "iopub.execute_input": "2025-03-30T08:24:38.140396Z",
          "iopub.status.idle": "2025-03-30T08:24:38.150928Z",
          "shell.execute_reply.started": "2025-03-30T08:24:38.140327Z",
          "shell.execute_reply": "2025-03-30T08:24:38.149753Z"
        },
        "id": "wW1Xsy8laRCI"
      },
      "outputs": [],
      "execution_count": null
    },
    {
      "cell_type": "code",
      "source": [
        "ref = references[0]\n",
        "rouge_scores_extractive = evaluate_rouge(extractive_result, ref)\n",
        "rouge_scores_abstractive = evaluate_rouge(abstractive_result, ref)\n",
        "rouge_scores_hybrid = evaluate_rouge(hybrid_result, ref)"
      ],
      "metadata": {
        "trusted": true,
        "execution": {
          "iopub.status.busy": "2025-03-30T08:24:38.152463Z",
          "iopub.execute_input": "2025-03-30T08:24:38.152845Z",
          "iopub.status.idle": "2025-03-30T08:24:38.171296Z",
          "shell.execute_reply.started": "2025-03-30T08:24:38.152807Z",
          "shell.execute_reply": "2025-03-30T08:24:38.170279Z"
        },
        "id": "9AaZ-kdeaRCJ"
      },
      "outputs": [],
      "execution_count": null
    },
    {
      "cell_type": "code",
      "source": [
        "print(\"ROUGE Extractive:\", rouge_scores_extractive)\n",
        "print(\"ROUGE Abstractive:\", rouge_scores_abstractive)\n",
        "print(\"ROUGE Hybrid:\", rouge_scores_hybrid)"
      ],
      "metadata": {
        "trusted": true,
        "execution": {
          "iopub.status.busy": "2025-03-30T08:24:39.211689Z",
          "iopub.execute_input": "2025-03-30T08:24:39.212029Z",
          "iopub.status.idle": "2025-03-30T08:24:39.218153Z",
          "shell.execute_reply.started": "2025-03-30T08:24:39.211994Z",
          "shell.execute_reply": "2025-03-30T08:24:39.217342Z"
        },
        "id": "f1pgKjCjaRCK",
        "outputId": "3437320c-53b0-40a5-ce8a-63c067bc6670"
      },
      "outputs": [
        {
          "name": "stdout",
          "text": "ROUGE Extractive: {'rouge1': Score(precision=0.08860759493670886, recall=0.5833333333333334, fmeasure=0.15384615384615383), 'rouge2': Score(precision=0.01282051282051282, recall=0.09090909090909091, fmeasure=0.02247191011235955), 'rougeL': Score(precision=0.05063291139240506, recall=0.3333333333333333, fmeasure=0.0879120879120879)}\nROUGE Abstractive: {'rouge1': Score(precision=0.13953488372093023, recall=0.5, fmeasure=0.21818181818181817), 'rouge2': Score(precision=0.023809523809523808, recall=0.09090909090909091, fmeasure=0.03773584905660377), 'rougeL': Score(precision=0.11627906976744186, recall=0.4166666666666667, fmeasure=0.1818181818181818)}\nROUGE Hybrid: {'rouge1': Score(precision=0.18518518518518517, recall=0.4166666666666667, fmeasure=0.2564102564102564), 'rouge2': Score(precision=0.0, recall=0.0, fmeasure=0.0), 'rougeL': Score(precision=0.14814814814814814, recall=0.3333333333333333, fmeasure=0.20512820512820512)}\n",
          "output_type": "stream"
        }
      ],
      "execution_count": null
    },
    {
      "cell_type": "markdown",
      "source": [
        "### BLEU"
      ],
      "metadata": {
        "id": "Lews6j_YaRCK"
      }
    },
    {
      "cell_type": "code",
      "source": [
        "import sacrebleu\n",
        "\n",
        "def evaluate_bleu(generated, reference):\n",
        "    bleu = sacrebleu.corpus_bleu([generated], [[reference]])\n",
        "    return bleu.score"
      ],
      "metadata": {
        "trusted": true,
        "execution": {
          "iopub.status.busy": "2025-03-30T08:24:41.146691Z",
          "iopub.execute_input": "2025-03-30T08:24:41.147031Z",
          "iopub.status.idle": "2025-03-30T08:24:41.252212Z",
          "shell.execute_reply.started": "2025-03-30T08:24:41.146996Z",
          "shell.execute_reply": "2025-03-30T08:24:41.251366Z"
        },
        "id": "VY8cEoBgaRCL"
      },
      "outputs": [],
      "execution_count": null
    },
    {
      "cell_type": "code",
      "source": [
        "bleu_extractive = evaluate_bleu(extractive_result, ref)\n",
        "bleu_abstractive = evaluate_bleu(abstractive_result, ref)\n",
        "bleu_hybrid = evaluate_bleu(hybrid_result, ref)"
      ],
      "metadata": {
        "trusted": true,
        "execution": {
          "iopub.status.busy": "2025-03-30T08:24:45.467266Z",
          "iopub.execute_input": "2025-03-30T08:24:45.468026Z",
          "iopub.status.idle": "2025-03-30T08:24:45.478208Z",
          "shell.execute_reply.started": "2025-03-30T08:24:45.467986Z",
          "shell.execute_reply": "2025-03-30T08:24:45.477072Z"
        },
        "id": "BTISJvvLaRCP"
      },
      "outputs": [],
      "execution_count": null
    },
    {
      "cell_type": "code",
      "source": [
        "print(\"BLEU Extractive:\", bleu_extractive)\n",
        "print(\"BLEU Abstractive:\", bleu_abstractive)\n",
        "print(\"BLEU Hybrid:\", bleu_hybrid)"
      ],
      "metadata": {
        "trusted": true,
        "execution": {
          "iopub.status.busy": "2025-03-30T08:24:46.506821Z",
          "iopub.execute_input": "2025-03-30T08:24:46.507227Z",
          "iopub.status.idle": "2025-03-30T08:24:46.513246Z",
          "shell.execute_reply.started": "2025-03-30T08:24:46.507197Z",
          "shell.execute_reply": "2025-03-30T08:24:46.512259Z"
        },
        "id": "BZqanasWaRCP",
        "outputId": "ee9bfc6c-a0fd-4efd-dc0e-963cc773bbf7"
      },
      "outputs": [
        {
          "name": "stdout",
          "text": "BLEU Extractive: 0.6548987028849833\nBLEU Abstractive: 1.2438555540747176\nBLEU Hybrid: 1.8196871111910016\n",
          "output_type": "stream"
        }
      ],
      "execution_count": null
    },
    {
      "cell_type": "code",
      "source": [
        "results = {\"extractive\": [], \"abstractive\": [], \"hybrid\": []}\n",
        "for i in range(min(100, len(texts))):\n",
        "    text, ref = texts[i], references[i]\n",
        "    results[\"extractive\"].append(extractive_summary(text))\n",
        "    results[\"abstractive\"].append(abstractive_summary(text))\n",
        "    results[\"hybrid\"].append(hybrid_summary(text))"
      ],
      "metadata": {
        "trusted": true,
        "execution": {
          "iopub.status.busy": "2025-03-30T08:56:45.414077Z",
          "iopub.execute_input": "2025-03-30T08:56:45.414706Z",
          "iopub.status.idle": "2025-03-30T09:25:53.986232Z",
          "shell.execute_reply.started": "2025-03-30T08:56:45.41466Z",
          "shell.execute_reply": "2025-03-30T09:25:53.985209Z"
        },
        "id": "WUaHrf0maRCQ"
      },
      "outputs": [],
      "execution_count": null
    },
    {
      "cell_type": "code",
      "source": [
        "def avg_scores(results, refs, metric=\"rouge\"):\n",
        "    scores = []\n",
        "    for gen, ref in zip(results, refs[:len(results)]):\n",
        "        if metric == \"rouge\":\n",
        "            score = evaluate_rouge(gen, ref)[\"rougeL\"].fmeasure  # Using ROUGE-L F1\n",
        "        else:\n",
        "            score = evaluate_bleu(gen, ref)\n",
        "        scores.append(score)\n",
        "    return sum(scores) / len(scores)"
      ],
      "metadata": {
        "trusted": true,
        "id": "8R6kz_QXaRCR"
      },
      "outputs": [],
      "execution_count": null
    },
    {
      "cell_type": "code",
      "source": [
        "for method in results:\n",
        "    avg_rouge = avg_scores(results[method], references, \"rouge\")\n",
        "    avg_bleu = avg_scores(results[method], references, \"bleu\")\n",
        "    print(f\"{method.capitalize()} - Avg ROUGE-L: {avg_rouge:.4f}, Avg BLEU: {avg_bleu:.4f}\")"
      ],
      "metadata": {
        "trusted": true,
        "execution": {
          "execution_failed": "2025-03-30T07:58:02.17Z"
        },
        "id": "5jzjZBYLaRCS"
      },
      "outputs": [],
      "execution_count": null
    },
    {
      "cell_type": "code",
      "source": [],
      "metadata": {
        "trusted": true,
        "id": "yet3P-0naRCS"
      },
      "outputs": [],
      "execution_count": null
    }
  ]
}